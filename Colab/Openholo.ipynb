{
  "cells": [
    {
      "cell_type": "code",
      "execution_count": null,
      "metadata": {
        "id": "gR14PisSwJ1N"
      },
      "outputs": [],
      "source": [
        "!apt-get update\n",
        "!apt-get install -y cmake wget git\n",
        "!pip install gradio # web ui tool\n",
        "!pip install subprocess.run # externel process\n",
        "!rm -rf Openholo\n",
        "!git clone https://github.com/Openhologram/Openholo.git\n",
        "%cd Openholo\n",
        "!chmod 777 ./Colab/install.sh",
        "!./Colab/install.sh -auto"
      ]
    },
    {
      "cell_type": "code",
      "execution_count": null,
      "metadata": {
        "id": "eD1nFHpKwNYF"
      },
      "outputs": [],
      "source": [
        "# Release Build"
        "!./Colab/install.sh"
        "# Debug Build"
        "#!./Colab/install.sh -d"
      ]
    }
  ],
  "metadata": {
    "accelerator": "GPU",
    "colab": {
      "provenance": []
    },
    "kernelspec": {
      "display_name": "Python 3",
      "name": "python3"
    },
    "language_info": {
      "name": "python"
    }
  },
  "nbformat": 4,
  "nbformat_minor": 0
}
